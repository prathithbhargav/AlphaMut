{
 "cells": [
  {
   "cell_type": "markdown",
   "id": "47dda90e",
   "metadata": {},
   "source": [
    "# About this Notebook\n",
    "## This is for the only Helix Model\n",
    "This is for training the model to disrupt helices. We can use the Stable Baselines 3 implementations of different Reinforcement Learning Models and can train and validate them "
   ]
  },
  {
   "cell_type": "code",
   "execution_count": 1,
   "id": "77ba3de0-6a48-48cf-b40a-84d0362ee282",
   "metadata": {
    "tags": []
   },
   "outputs": [],
   "source": [
    "import Helix_only\n",
    "import stable_baselines3\n",
    "import pandas as pd\n",
    "import numpy as np\n",
    "import glob, os, shutil\n",
    "import gymnasium as gym\n",
    "import numpy as np\n",
    "from tqdm import tqdm\n",
    "import matplotlib.pyplot as plt\n",
    "from stable_baselines3.common.monitor import Monitor\n",
    "from stable_baselines3.common.results_plotter import load_results, ts2xy\n"
   ]
  },
  {
   "cell_type": "markdown",
   "id": "352cf70e",
   "metadata": {},
   "source": [
    "Inorder to get your model running, specify the following information"
   ]
  },
  {
   "cell_type": "code",
   "execution_count": null,
   "id": "cdfeac26",
   "metadata": {},
   "outputs": [],
   "source": [
    "# enter the folder path that has pdb files of helices containing a certain length\n",
    "folder_contining_pdb_files = '' \n",
    "# enter the folder path that has the pdb files for validating your model\n",
    "folder_containing_pdb_files_for_validation = ''\n",
    "# enter the folder path where validation files need to be saved.\n",
    "folder_to_save_validation_files = ''\n",
    "# enter a unique name. can be anything - this is to ensure two models can run paralelly. \n",
    "unique_path_to_give_for_file = ''\n",
    "sequence_encoding_type = 'esm' # allowed options are 'esm' and 'biotite'\n",
    "use_proline = True# allowed are True and False, whether to use Proline as a mutation or not.\n",
    "reward_cutoff_percentage = 70 # this implies you get rewards for 70% disruption\n",
    "reward_cutoff = 100 - reward_cutoff_percentage"
   ]
  },
  {
   "cell_type": "code",
   "execution_count": null,
   "id": "e7e819de",
   "metadata": {},
   "outputs": [],
   "source": [
    "env = Helix_only.PeptideEvolution(folder_containing_pdb_files=folder_containing_pdb_files,\n",
    "                            folder_to_save_validation_files=folder_to_save_validation_files,\n",
    "                            reward_cutoff=reward_cutoff,\n",
    "                            unique_path_to_give_for_file='newalgo',\n",
    "                            sequence_encoding_type=sequence_encoding_type,use_proline=True)"
   ]
  },
  {
   "cell_type": "markdown",
   "id": "5f41cac1",
   "metadata": {},
   "source": [
    "# Proximal Policy Optimisation\n",
    "Other Algorithms can also be used - refer to https://stable-baselines3.readthedocs.io/en/master/index.html for more information"
   ]
  },
  {
   "cell_type": "code",
   "execution_count": 1,
   "id": "c0df9557",
   "metadata": {},
   "outputs": [],
   "source": [
    "from stable_baselines3 import PPO\n",
    "from stable_baselines3.ppo import MlpPolicy\n",
    "from stable_baselines3.common.evaluation import evaluate_policy"
   ]
  },
  {
   "cell_type": "code",
   "execution_count": null,
   "id": "12ffa37b",
   "metadata": {},
   "outputs": [],
   "source": [
    "# Create log dir\n",
    "log_dir = \"ppo_training_log\"\n",
    "os.makedirs(log_dir, exist_ok=True)\n"
   ]
  },
  {
   "cell_type": "markdown",
   "id": "627db63e",
   "metadata": {},
   "source": [
    "## training"
   ]
  },
  {
   "cell_type": "code",
   "execution_count": null,
   "id": "3602be65",
   "metadata": {},
   "outputs": [],
   "source": [
    "# Create RL model\n",
    "model = PPO('MlpPolicy', env, verbose=1)\n",
    "# Train the agent\n",
    "model.learn(total_timesteps=int(8000*7),progress_bar=True )"
   ]
  },
  {
   "cell_type": "code",
   "execution_count": null,
   "id": "a112b018",
   "metadata": {},
   "outputs": [],
   "source": [
    "model.save(\"saved_models/ppo_training_with_proline_tp\")"
   ]
  },
  {
   "cell_type": "code",
   "execution_count": null,
   "id": "1c5cf857",
   "metadata": {},
   "outputs": [],
   "source": [
    "trained_ppo_model = PPO.load('saved_models/ppo_training_with_proline_tp.zip')"
   ]
  },
  {
   "cell_type": "markdown",
   "id": "47824ad1",
   "metadata": {},
   "source": [
    "# Evaluation and Validation \n",
    "Stable Baselines3 provides useful helper functions to evaluate the policy. "
   ]
  },
  {
   "cell_type": "code",
   "execution_count": null,
   "id": "0a368cbf",
   "metadata": {},
   "outputs": [],
   "source": [
    "from stable_baselines3.common.evaluation import evaluate_policy"
   ]
  },
  {
   "cell_type": "code",
   "execution_count": null,
   "id": "49db2f2e",
   "metadata": {},
   "outputs": [],
   "source": [
    "eval_env = Helix_only.PeptideEvolution(folder_containing_pdb_files=folder_containing_pdb_files_for_validation,\n",
    "                            folder_to_save_validation_files=folder_to_save_validation_files,\n",
    "                            reward_cutoff=reward_cutoff,\n",
    "                            unique_path_to_give_for_file='newalgo',\n",
    "                            sequence_encoding_type=sequence_encoding_type,use_proline=True,validation=True)"
   ]
  },
  {
   "cell_type": "code",
   "execution_count": null,
   "id": "b383b0da",
   "metadata": {},
   "outputs": [],
   "source": [
    "# Evaluate the loaded policy\n",
    "mean_reward, std_reward = evaluate_policy(trained_ppo_model, eval_env, n_eval_episodes=10,deterministic=False)\n",
    "\n",
    "print(f\"mean_reward={mean_reward:.2f} +/- {std_reward}\")"
   ]
  }
 ],
 "metadata": {
  "kernelspec": {
   "display_name": "Python 3 (ipykernel)",
   "language": "python",
   "name": "python3"
  },
  "language_info": {
   "codemirror_mode": {
    "name": "ipython",
    "version": 3
   },
   "file_extension": ".py",
   "mimetype": "text/x-python",
   "name": "python",
   "nbconvert_exporter": "python",
   "pygments_lexer": "ipython3",
   "version": "3.11.4"
  }
 },
 "nbformat": 4,
 "nbformat_minor": 5
}
