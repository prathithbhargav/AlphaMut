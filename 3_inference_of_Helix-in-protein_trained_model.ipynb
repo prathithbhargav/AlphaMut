{
 "cells": [
  {
   "cell_type": "markdown",
   "id": "c8bd5b5a-8412-4fe7-9732-6f4b4181a3f4",
   "metadata": {},
   "source": [
    "# AlphaMut\n",
    "This colab notebook is to get inference model from the manuscript: AlphaMut: a deep reinforcement learning model\n",
    "to suggest helix disrupting mutations. "
   ]
  },
  {
   "cell_type": "code",
   "execution_count": null,
   "id": "b48f9bfc-5aa0-4aed-87cf-fd13f7ebc013",
   "metadata": {},
   "outputs": [],
   "source": []
  }
 ],
 "metadata": {
  "kernelspec": {
   "display_name": "Python 3 (ipykernel)",
   "language": "python",
   "name": "python3"
  },
  "language_info": {
   "codemirror_mode": {
    "name": "ipython",
    "version": 3
   },
   "file_extension": ".py",
   "mimetype": "text/x-python",
   "name": "python",
   "nbconvert_exporter": "python",
   "pygments_lexer": "ipython3",
   "version": "3.11.4"
  }
 },
 "nbformat": 4,
 "nbformat_minor": 5
}
