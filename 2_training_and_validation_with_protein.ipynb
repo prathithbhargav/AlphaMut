{
 "cells": [
  {
   "cell_type": "markdown",
   "id": "ac12441e",
   "metadata": {},
   "source": [
    "# About this Notebook\n",
    "## This is for the helix inside the Protein.\n",
    "This is for training the model (Helix-in-protein) to disrupt helices inside a given protein. We can use the Stable Baselines 3 implementations of different Reinforcement Learning Models and can train and validate them "
   ]
  },
  {
   "cell_type": "code",
   "execution_count": 3,
   "id": "b33561f5-38bf-4e32-955c-fefd852dcd29",
   "metadata": {},
   "outputs": [],
   "source": [
    "import Helix_in_protein # this import will make sure that we are importing the whole protein utils. \n",
    "import stable_baselines3\n",
    "import pandas as pd\n",
    "import numpy as np\n",
    "import glob, os, shutil\n",
    "import gymnasium as gym\n",
    "import numpy as np\n",
    "from tqdm import tqdm\n",
    "import matplotlib.pyplot as plt\n",
    "from stable_baselines3.common.monitor import Monitor\n",
    "from stable_baselines3.common.results_plotter import load_results, ts2xy"
   ]
  },
  {
   "cell_type": "code",
   "execution_count": 6,
   "id": "d1313b10-5d4f-473f-bad7-2f5d4089bc03",
   "metadata": {},
   "outputs": [],
   "source": [
    "env = Helix_in_protein.ProteinEvolution(file_containing_sequence_database='csv_files/15_aa_alpha_helix_dataset_with_whole_protein_sequence_with_start_and_end_fixed.csv',\n",
    "                                        protein_length_limit=300,\n",
    "                                          folder_to_save_validation_files='validation_structures',\n",
    "                                          reward_cutoff=30.0,\n",
    "                                          unique_path_to_give_for_file='with_protein_run',\n",
    "                                          sequence_encoding_type='esm',\n",
    "                                          maximum_number_of_allowed_mutations_per_episode=7)"
   ]
  },
  {
   "cell_type": "markdown",
   "id": "ee1d5a06",
   "metadata": {},
   "source": [
    "# Proximal Policy Optimisation\n",
    "Other Algorithms can also be used - refer to https://stable-baselines3.readthedocs.io/en/master/index.html for more information"
   ]
  },
  {
   "cell_type": "code",
   "execution_count": null,
   "id": "831ccc3d",
   "metadata": {},
   "outputs": [],
   "source": [
    "from stable_baselines3 import PPO\n",
    "from stable_baselines3.ppo import MlpPolicy\n",
    "from stable_baselines3.common.evaluation import evaluate_policy"
   ]
  },
  {
   "cell_type": "code",
   "execution_count": null,
   "id": "d3b97e3c",
   "metadata": {},
   "outputs": [],
   "source": [
    "# Create log dir\n",
    "log_dir = \"ppo_training_log_whole_protein\"\n",
    "os.makedirs(log_dir, exist_ok=True)"
   ]
  },
  {
   "cell_type": "code",
   "execution_count": null,
   "id": "a17f79ce",
   "metadata": {},
   "outputs": [],
   "source": [
    "env = Monitor(env, log_dir)"
   ]
  },
  {
   "cell_type": "code",
   "execution_count": null,
   "id": "27694146",
   "metadata": {},
   "outputs": [],
   "source": [
    "model = PPO('MlpPolicy', env, verbose=1, gamma=0.95)\n",
    "# Train the agent\n",
    "model.learn(total_timesteps=int(14000)*12 , progress_bar=True)\n"
   ]
  }
 ],
 "metadata": {
  "kernelspec": {
   "display_name": "Python 3 (ipykernel)",
   "language": "python",
   "name": "python3"
  },
  "language_info": {
   "codemirror_mode": {
    "name": "ipython",
    "version": 3
   },
   "file_extension": ".py",
   "mimetype": "text/x-python",
   "name": "python",
   "nbconvert_exporter": "python",
   "pygments_lexer": "ipython3",
   "version": "3.11.4"
  }
 },
 "nbformat": 4,
 "nbformat_minor": 5
}
